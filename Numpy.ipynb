{
  "nbformat": 4,
  "nbformat_minor": 0,
  "metadata": {
    "colab": {
      "provenance": []
    },
    "kernelspec": {
      "name": "python3",
      "display_name": "Python 3"
    },
    "language_info": {
      "name": "python"
    }
  },
  "cells": [
    {
      "cell_type": "code",
      "execution_count": null,
      "metadata": {
        "colab": {
          "base_uri": "https://localhost:8080/"
        },
        "id": "LbX0YVDiuyfm",
        "outputId": "3c21f584-8b77-4550-f66f-791da996e982"
      },
      "outputs": [
        {
          "output_type": "stream",
          "name": "stdout",
          "text": [
            "[1 2 3]\n",
            "<class 'numpy.ndarray'>\n",
            "[1. 2. 4.]\n",
            "<class 'numpy.ndarray'>\n"
          ]
        }
      ],
      "source": [
        "# 1. Create a numpy array with numpy.array module and with a data type integer and float\n",
        "import numpy as np\n",
        "array=np.array([1,2,3],dtype=int)\n",
        "print(array)\n",
        "print(type(array))\n",
        "# float\n",
        "float_array=np.array([1,2,4],dtype=float)\n",
        "print(float_array)\n",
        "print(type(array))"
      ]
    },
    {
      "cell_type": "code",
      "source": [
        "# 2. Create numpy arrays that have zero, one, two, three, Four dimensions respectively.\n",
        "# Also, print the shape and dimensions of the numpy arrays created above.\n",
        "import numpy as np\n",
        "\n",
        "# Zero-dimensional array\n",
        "zero_dim = np.array(5)\n",
        "print(\"Zero-dimensional array:\")\n",
        "print(zero_dim)\n",
        "print(\"Shape:\", zero_dim.shape)\n",
        "print(\"Dimensions:\", zero_dim.ndim)\n",
        "\n",
        "# One-dimensional array\n",
        "one_dim = np.array([1, 2, 3, 4, 5])\n",
        "print(\"\\nOne-dimensional array:\")\n",
        "print(one_dim)\n",
        "print(\"Shape:\", one_dim.shape)\n",
        "print(\"Dimensions:\", one_dim.ndim)\n",
        "\n",
        "# Two-dimensional array\n",
        "two_dim = np.array([[1, 2, 3], [4, 5, 6]])\n",
        "print(\"\\nTwo-dimensional array:\")\n",
        "print(two_dim)\n",
        "print(\"Shape:\", two_dim.shape)\n",
        "print(\"Dimensions:\", two_dim.ndim)\n",
        "\n",
        "# Three-dimensional array\n",
        "three_dim = np.array([[[1, 2], [3, 4]], [[5, 6], [7, 8]]])\n",
        "print(\"\\nThree-dimensional array:\")\n",
        "print(three_dim)\n",
        "print(\"Shape:\", three_dim.shape)\n",
        "print(\"Dimensions:\", three_dim.ndim)\n",
        "\n",
        "# Four-dimensional array\n",
        "four_dim = np.array([[[[1, 2], [3, 4]], [[5, 6], [7, 8]]], [[[9, 10], [11, 12]], [[13, 14], [15, 16]]]])\n",
        "print(\"\\nFour-dimensional array:\")\n",
        "print(four_dim)\n",
        "print(\"Shape:\", four_dim.shape)\n",
        "print(\"Dimensions:\", four_dim.ndim)\n",
        "\n"
      ],
      "metadata": {
        "colab": {
          "base_uri": "https://localhost:8080/"
        },
        "id": "F9trmnYiu_Gh",
        "outputId": "e96763f8-c216-4d9e-cdc8-478354c80fd4"
      },
      "execution_count": null,
      "outputs": [
        {
          "output_type": "stream",
          "name": "stdout",
          "text": [
            "Zero-dimensional array:\n",
            "5\n",
            "Shape: ()\n",
            "Dimensions: 0\n",
            "\n",
            "One-dimensional array:\n",
            "[1 2 3 4 5]\n",
            "Shape: (5,)\n",
            "Dimensions: 1\n",
            "\n",
            "Two-dimensional array:\n",
            "[[1 2 3]\n",
            " [4 5 6]]\n",
            "Shape: (2, 3)\n",
            "Dimensions: 2\n",
            "\n",
            "Three-dimensional array:\n",
            "[[[1 2]\n",
            "  [3 4]]\n",
            "\n",
            " [[5 6]\n",
            "  [7 8]]]\n",
            "Shape: (2, 2, 2)\n",
            "Dimensions: 3\n",
            "\n",
            "Four-dimensional array:\n",
            "[[[[ 1  2]\n",
            "   [ 3  4]]\n",
            "\n",
            "  [[ 5  6]\n",
            "   [ 7  8]]]\n",
            "\n",
            "\n",
            " [[[ 9 10]\n",
            "   [11 12]]\n",
            "\n",
            "  [[13 14]\n",
            "   [15 16]]]]\n",
            "Shape: (2, 2, 2, 2)\n",
            "Dimensions: 4\n"
          ]
        }
      ]
    },
    {
      "cell_type": "code",
      "source": [
        "np.array([[1,2],[3,4]])"
      ],
      "metadata": {
        "colab": {
          "base_uri": "https://localhost:8080/"
        },
        "id": "6WqKGzdJv7o9",
        "outputId": "55459442-ba7c-4eef-8ec7-be30b38f11be"
      },
      "execution_count": null,
      "outputs": [
        {
          "output_type": "execute_result",
          "data": {
            "text/plain": [
              "array([[1, 2],\n",
              "       [3, 4]])"
            ]
          },
          "metadata": {},
          "execution_count": 3
        }
      ]
    },
    {
      "cell_type": "code",
      "source": [
        "# 3. Create a 2x2, 3x3, and 4x4 identity matrix using numpy.\n",
        "print('2x2 matrix')\n",
        "print(np.identity(2))\n",
        "print('3x3 matrix')\n",
        "print(np.identity(3))\n",
        "print('4x4 matrix')\n",
        "print(np.identity(4))"
      ],
      "metadata": {
        "colab": {
          "base_uri": "https://localhost:8080/"
        },
        "id": "w7woOkZQ5Chf",
        "outputId": "1e0c1781-0bde-4c05-b490-3a6fd1d8dc9e"
      },
      "execution_count": null,
      "outputs": [
        {
          "output_type": "stream",
          "name": "stdout",
          "text": [
            "2x2 matrix\n",
            "[[1. 0.]\n",
            " [0. 1.]]\n",
            "3x3 matrix\n",
            "[[1. 0. 0.]\n",
            " [0. 1. 0.]\n",
            " [0. 0. 1.]]\n",
            "4x4 matrix\n",
            "[[1. 0. 0. 0.]\n",
            " [0. 1. 0. 0.]\n",
            " [0. 0. 1. 0.]\n",
            " [0. 0. 0. 1.]]\n"
          ]
        }
      ]
    },
    {
      "cell_type": "code",
      "source": [
        "# 4. Create a numpy array with shape 2x5 that has all the elements as zero\n",
        "np.zeros([2,5],dtype=int)"
      ],
      "metadata": {
        "colab": {
          "base_uri": "https://localhost:8080/"
        },
        "id": "68rWwqYE5dmd",
        "outputId": "ffb3a0e5-8706-4731-c358-ce3ad3896853"
      },
      "execution_count": null,
      "outputs": [
        {
          "output_type": "execute_result",
          "data": {
            "text/plain": [
              "array([[0, 0, 0, 0, 0],\n",
              "       [0, 0, 0, 0, 0]])"
            ]
          },
          "metadata": {},
          "execution_count": 5
        }
      ]
    },
    {
      "cell_type": "code",
      "source": [
        "# Create a numpy array that has the shape 3x5 and all the elements are 5.\n",
        "np.full([3,5],5)"
      ],
      "metadata": {
        "colab": {
          "base_uri": "https://localhost:8080/"
        },
        "id": "Q3GlauPw58ov",
        "outputId": "ad5e5951-b7b2-4cd4-8180-ac2763645566"
      },
      "execution_count": null,
      "outputs": [
        {
          "output_type": "execute_result",
          "data": {
            "text/plain": [
              "array([[5, 5, 5, 5, 5],\n",
              "       [5, 5, 5, 5, 5],\n",
              "       [5, 5, 5, 5, 5]])"
            ]
          },
          "metadata": {},
          "execution_count": 6
        }
      ]
    },
    {
      "cell_type": "code",
      "source": [
        "# 6. Create a numpy array with random integers in the range 0-100, and the sample size should be 25.\n",
        "np.arange(0,101,25)"
      ],
      "metadata": {
        "colab": {
          "base_uri": "https://localhost:8080/"
        },
        "id": "ix-DfLbi68Vr",
        "outputId": "f4be3e22-8a9f-4fdc-f620-1bd41b7fcf01"
      },
      "execution_count": null,
      "outputs": [
        {
          "output_type": "execute_result",
          "data": {
            "text/plain": [
              "array([  0,  25,  50,  75, 100])"
            ]
          },
          "metadata": {},
          "execution_count": 7
        }
      ]
    },
    {
      "cell_type": "code",
      "source": [
        "# 7. Create a numpy array with a shape 3x3 that has all elements as 1.\n",
        "import numpy as np\n",
        "np.full((3,3),1)"
      ],
      "metadata": {
        "id": "-ZdRq35G7WVP",
        "colab": {
          "base_uri": "https://localhost:8080/"
        },
        "outputId": "da597016-0e25-40b5-94f2-863209354f58"
      },
      "execution_count": null,
      "outputs": [
        {
          "output_type": "execute_result",
          "data": {
            "text/plain": [
              "array([[1, 1, 1],\n",
              "       [1, 1, 1],\n",
              "       [1, 1, 1]])"
            ]
          },
          "metadata": {},
          "execution_count": 8
        }
      ]
    },
    {
      "cell_type": "code",
      "source": [
        "# 8. Create a numpy array in the shape 2x3 with random integers in the range 0-100.\n",
        "#  Reshape the array in the shape 3x2 and print the updated shape of the resultant array.\n",
        "np.random.randint(low=0, high = 100, size=(2,3))"
      ],
      "metadata": {
        "colab": {
          "base_uri": "https://localhost:8080/"
        },
        "id": "29GibrqTyiLa",
        "outputId": "a7104965-c8f4-4ff4-9fa4-2c3e16b0c0a6"
      },
      "execution_count": null,
      "outputs": [
        {
          "output_type": "execute_result",
          "data": {
            "text/plain": [
              "array([[ 4, 83, 99],\n",
              "       [20, 50, 50]])"
            ]
          },
          "metadata": {},
          "execution_count": 9
        }
      ]
    },
    {
      "cell_type": "code",
      "source": [
        "# 9. Create a random array, with the range 0-100, with a size 50. Perform the following operations on the same:\n",
        "a=np.random.randint(0,100,50)\n",
        "a"
      ],
      "metadata": {
        "colab": {
          "base_uri": "https://localhost:8080/"
        },
        "id": "aVyHL33wzJVZ",
        "outputId": "4ce8922f-0ca4-42e0-d5ef-f89612ec65f1"
      },
      "execution_count": null,
      "outputs": [
        {
          "output_type": "execute_result",
          "data": {
            "text/plain": [
              "array([16,  4, 60, 73, 99, 74, 25, 76, 35,  8, 82, 47,  8,  8, 51, 52,  1,\n",
              "       44, 27, 62, 68, 75, 72, 25, 47, 15,  3, 61, 81, 85, 33, 97, 17, 28,\n",
              "       80, 28, 75, 24, 46, 53, 35, 99, 21, 56, 25, 61, 71, 53,  4, 73])"
            ]
          },
          "metadata": {},
          "execution_count": 10
        }
      ]
    },
    {
      "cell_type": "code",
      "source": [
        "\n",
        "# a. Print the first ten elements of the array\n",
        "a[:10]"
      ],
      "metadata": {
        "colab": {
          "base_uri": "https://localhost:8080/"
        },
        "id": "Dgzs2-2WzlT3",
        "outputId": "e9469169-2081-4970-b5b1-589e236f27a1"
      },
      "execution_count": null,
      "outputs": [
        {
          "output_type": "execute_result",
          "data": {
            "text/plain": [
              "array([16,  4, 60, 73, 99, 74, 25, 76, 35,  8])"
            ]
          },
          "metadata": {},
          "execution_count": 11
        }
      ]
    },
    {
      "cell_type": "code",
      "source": [
        "# b. Print the last ten elements of the array print\n",
        "a[40:]"
      ],
      "metadata": {
        "colab": {
          "base_uri": "https://localhost:8080/"
        },
        "id": "D4jF5banzswt",
        "outputId": "2a4721e4-8901-462d-a0b6-aab23848afc5"
      },
      "execution_count": null,
      "outputs": [
        {
          "output_type": "execute_result",
          "data": {
            "text/plain": [
              "array([35, 99, 21, 56, 25, 61, 71, 53,  4, 73])"
            ]
          },
          "metadata": {},
          "execution_count": 12
        }
      ]
    },
    {
      "cell_type": "code",
      "source": [
        "# c. Print the elements from the indexes 10-25\n",
        "a[10:26]"
      ],
      "metadata": {
        "colab": {
          "base_uri": "https://localhost:8080/"
        },
        "id": "zTwFUz1szwZe",
        "outputId": "138487f7-6aac-4e98-821f-23e283405c79"
      },
      "execution_count": null,
      "outputs": [
        {
          "output_type": "execute_result",
          "data": {
            "text/plain": [
              "array([82, 47,  8,  8, 51, 52,  1, 44, 27, 62, 68, 75, 72, 25, 47, 15])"
            ]
          },
          "metadata": {},
          "execution_count": 13
        }
      ]
    },
    {
      "cell_type": "code",
      "source": [
        "\n",
        "# d. Print the element at the index 22\n",
        "\n",
        "a[22]"
      ],
      "metadata": {
        "colab": {
          "base_uri": "https://localhost:8080/"
        },
        "id": "iAIvWn3Ez2Sg",
        "outputId": "f956ebf7-3a94-4849-8268-c9947ca4130b"
      },
      "execution_count": null,
      "outputs": [
        {
          "output_type": "execute_result",
          "data": {
            "text/plain": [
              "72"
            ]
          },
          "metadata": {},
          "execution_count": 14
        }
      ]
    },
    {
      "cell_type": "code",
      "source": [
        "#e. Print the array using negative indexing.\n",
        "a[-15:-2]"
      ],
      "metadata": {
        "colab": {
          "base_uri": "https://localhost:8080/"
        },
        "id": "38x9omgpz3an",
        "outputId": "c6592bbf-4c58-4447-d4e7-69f955942a32"
      },
      "execution_count": null,
      "outputs": [
        {
          "output_type": "execute_result",
          "data": {
            "text/plain": [
              "array([28, 75, 24, 46, 53, 35, 99, 21, 56, 25, 61, 71, 53])"
            ]
          },
          "metadata": {},
          "execution_count": 15
        }
      ]
    },
    {
      "cell_type": "code",
      "source": [
        "# f. Print the last ten elements of the array, using negative indexing.\n",
        "a[-10:]"
      ],
      "metadata": {
        "colab": {
          "base_uri": "https://localhost:8080/"
        },
        "id": "LraPCmCIz4uj",
        "outputId": "a1652cfd-b4fd-47b6-c8f2-33882f2218fa"
      },
      "execution_count": null,
      "outputs": [
        {
          "output_type": "execute_result",
          "data": {
            "text/plain": [
              "array([35, 99, 21, 56, 25, 61, 71, 53,  4, 73])"
            ]
          },
          "metadata": {},
          "execution_count": 16
        }
      ]
    },
    {
      "cell_type": "code",
      "source": [
        "# 10. Given a numpy array that has values = [1,2,3,4,5]. Perform the following operations:\n",
        "b=np.array([1,2,3,4,5])\n",
        "b"
      ],
      "metadata": {
        "colab": {
          "base_uri": "https://localhost:8080/"
        },
        "id": "HX5RIycP0_SW",
        "outputId": "0a8e7b61-23e5-4fe0-db77-96058a0e53c2"
      },
      "execution_count": null,
      "outputs": [
        {
          "output_type": "execute_result",
          "data": {
            "text/plain": [
              "array([1, 2, 3, 4, 5])"
            ]
          },
          "metadata": {},
          "execution_count": 17
        }
      ]
    },
    {
      "cell_type": "code",
      "source": [
        "# Insert the element 6 at the end of the array.\n",
        "b=np.insert(b,5,6)#np.insert(array,index,value)\n",
        "b\n"
      ],
      "metadata": {
        "colab": {
          "base_uri": "https://localhost:8080/"
        },
        "id": "JUB2pONC1Q0z",
        "outputId": "21446928-cc93-45d6-d41c-bfb235589a12"
      },
      "execution_count": null,
      "outputs": [
        {
          "output_type": "execute_result",
          "data": {
            "text/plain": [
              "array([1, 2, 3, 4, 5, 6])"
            ]
          },
          "metadata": {},
          "execution_count": 18
        }
      ]
    },
    {
      "cell_type": "code",
      "source": [
        "# b. Insert the element 10 at the beginning of the array.\n",
        "b=np.insert(b,0,10)\n",
        "b\n"
      ],
      "metadata": {
        "colab": {
          "base_uri": "https://localhost:8080/"
        },
        "id": "JqCOhfcU1SXb",
        "outputId": "138173d2-5e42-472a-90b9-a429017e500b"
      },
      "execution_count": null,
      "outputs": [
        {
          "output_type": "execute_result",
          "data": {
            "text/plain": [
              "array([10,  1,  2,  3,  4,  5,  6])"
            ]
          },
          "metadata": {},
          "execution_count": 19
        }
      ]
    },
    {
      "cell_type": "code",
      "source": [
        "# c. Insert the element 30, before 4.\n",
        "b=np.insert(b,4,30)\n",
        "b\n"
      ],
      "metadata": {
        "colab": {
          "base_uri": "https://localhost:8080/"
        },
        "id": "wc93EcdM1Y-y",
        "outputId": "c9ddc5a2-212a-4132-f32d-3557aefb0820"
      },
      "execution_count": null,
      "outputs": [
        {
          "output_type": "execute_result",
          "data": {
            "text/plain": [
              "array([10,  1,  2,  3, 30,  4,  5,  6])"
            ]
          },
          "metadata": {},
          "execution_count": 20
        }
      ]
    },
    {
      "cell_type": "code",
      "source": [
        "# d. Update the element 5 as 50.\n",
        "b[b==5]=50\n",
        "b"
      ],
      "metadata": {
        "id": "cdD_6UM71aur",
        "colab": {
          "base_uri": "https://localhost:8080/"
        },
        "outputId": "f7bdc32c-005d-47ce-8e3a-d9ceb7849ca7"
      },
      "execution_count": null,
      "outputs": [
        {
          "output_type": "execute_result",
          "data": {
            "text/plain": [
              "array([10,  1,  2,  3, 30,  4, 50,  6])"
            ]
          },
          "metadata": {},
          "execution_count": 23
        }
      ]
    },
    {
      "cell_type": "code",
      "source": [],
      "metadata": {
        "id": "OuQxEwkBBmi4"
      },
      "execution_count": null,
      "outputs": []
    },
    {
      "cell_type": "code",
      "source": [
        "\n",
        "# e. Delete the element 50 in the updated array.\n",
        "\n",
        "b=np.delete(b,6)\n",
        "b"
      ],
      "metadata": {
        "id": "XlFm-QQm1fNW",
        "colab": {
          "base_uri": "https://localhost:8080/"
        },
        "outputId": "3068b1b9-5db3-482d-f69f-1dca93a72259"
      },
      "execution_count": null,
      "outputs": [
        {
          "output_type": "execute_result",
          "data": {
            "text/plain": [
              "array([10,  1,  2,  3, 30,  4,  6])"
            ]
          },
          "metadata": {},
          "execution_count": 24
        }
      ]
    },
    {
      "cell_type": "code",
      "source": [
        "#f. Create a function to search for the element 30.\n",
        "def fun(a):\n",
        "  for i in range(0,len(b)):\n",
        "    if b[i]==30:\n",
        "      print(b[i],i)"
      ],
      "metadata": {
        "id": "meAruEOsivM5"
      },
      "execution_count": null,
      "outputs": []
    },
    {
      "cell_type": "code",
      "source": [
        "fun(a)"
      ],
      "metadata": {
        "colab": {
          "base_uri": "https://localhost:8080/"
        },
        "id": "Uz-YVOoDjWQM",
        "outputId": "9da2db06-d10b-46a4-9ecc-1c0772200c6d"
      },
      "execution_count": null,
      "outputs": [
        {
          "output_type": "stream",
          "name": "stdout",
          "text": [
            "30 4\n"
          ]
        }
      ]
    },
    {
      "cell_type": "code",
      "source": [
        "#g. Sort the array in ascending order.\n",
        "b.sort()\n",
        "b"
      ],
      "metadata": {
        "colab": {
          "base_uri": "https://localhost:8080/"
        },
        "id": "_hJBGG4UjaqX",
        "outputId": "129731cc-8838-4f11-9399-f7015370e4f8"
      },
      "execution_count": null,
      "outputs": [
        {
          "output_type": "execute_result",
          "data": {
            "text/plain": [
              "array([ 1,  2,  3,  4,  6, 10, 30])"
            ]
          },
          "metadata": {},
          "execution_count": 28
        }
      ]
    },
    {
      "cell_type": "markdown",
      "source": [
        "**Numpy Operations**"
      ],
      "metadata": {
        "id": "w_UiS6X3Nh1F"
      }
    },
    {
      "cell_type": "markdown",
      "source": [
        "This is the notes of Numpy Operations which helps to understand how to apply numpy to the data"
      ],
      "metadata": {
        "id": "VAuu4KAkOYvE"
      }
    },
    {
      "cell_type": "code",
      "source": [
        "import numpy as np\n",
        "\n",
        "#1d array ---- it is a  vector\n",
        "ary=np.array([1,2,3,4])\n",
        "ary*2#it allows element wise operations"
      ],
      "metadata": {
        "id": "pelTGOisjmqX",
        "colab": {
          "base_uri": "https://localhost:8080/"
        },
        "outputId": "187b9b51-8a5d-4894-9323-bb95cb4b2d71"
      },
      "execution_count": 2,
      "outputs": [
        {
          "output_type": "execute_result",
          "data": {
            "text/plain": [
              "array([2, 4, 6, 8])"
            ]
          },
          "metadata": {},
          "execution_count": 2
        }
      ]
    },
    {
      "cell_type": "code",
      "source": [
        "#2-Dimensional Array  ---- it is a metrix\n",
        "#(rows,columns)\n",
        "arr2d=np.array([[1,2,3],[4,5,6],[2,3,4]])\n",
        "arr2d"
      ],
      "metadata": {
        "colab": {
          "base_uri": "https://localhost:8080/"
        },
        "id": "ML3G9E01NqS1",
        "outputId": "5a1e1505-00ab-4433-ea38-31d3cc58e483"
      },
      "execution_count": 3,
      "outputs": [
        {
          "output_type": "execute_result",
          "data": {
            "text/plain": [
              "array([[1, 2, 3],\n",
              "       [4, 5, 6],\n",
              "       [2, 3, 4]])"
            ]
          },
          "metadata": {},
          "execution_count": 3
        }
      ]
    },
    {
      "cell_type": "code",
      "source": [
        "#Builtin functions\n",
        "zero_matrix=np.zeros((3,4))\n",
        "onedarray=np.zeros(5)\n",
        "full=np.full((3,4),5)"
      ],
      "metadata": {
        "id": "v8R8CwElNyWV"
      },
      "execution_count": 4,
      "outputs": []
    },
    {
      "cell_type": "code",
      "source": [
        "a=np.arange(0,10,2) #step parameter\n",
        "b=np.linspace(0,10,2)#how many values you want it will tell\n",
        "c=np.random.random((2,3))\n",
        "np.arange(16).reshape(4,4)"
      ],
      "metadata": {
        "colab": {
          "base_uri": "https://localhost:8080/"
        },
        "id": "_l7aaDd8N3Uk",
        "outputId": "c9939b31-1179-4fb9-8afa-f0947b45ccfc"
      },
      "execution_count": 5,
      "outputs": [
        {
          "output_type": "execute_result",
          "data": {
            "text/plain": [
              "array([[ 0,  1,  2,  3],\n",
              "       [ 4,  5,  6,  7],\n",
              "       [ 8,  9, 10, 11],\n",
              "       [12, 13, 14, 15]])"
            ]
          },
          "metadata": {},
          "execution_count": 5
        }
      ]
    },
    {
      "cell_type": "code",
      "source": [
        "#Mathematical Functions\n",
        "ary=np.array([1,2,3,4])\n",
        "print(ary.sum())\n",
        "print(np.sum(ary))\n",
        "print(np.array([[10,20] ,[10,20]]))\n",
        "print(np.sum([[10,20],[10,20]],axis = 0))  ## Column wise addition\n",
        "print(np.sum([[10,20],[10,20]],axis = 1))  ## Row wise addition\n",
        "print(np.add([10,20],[10,20]))#column wise addition\n",
        "print(np.subtract([10,20],[10,20]))#column wise subtraction\n",
        "print(np.diff([[10,20],[10,20]],axis = 0))  ## Column wise difference\n",
        "print(np.diff([[10,20],[10,20]],axis = 1))  ## Row wise difference\n"
      ],
      "metadata": {
        "colab": {
          "base_uri": "https://localhost:8080/"
        },
        "id": "zv5x9DNmN9Rf",
        "outputId": "7238f5f2-b1d1-4c0a-ede1-59d816280daf"
      },
      "execution_count": 7,
      "outputs": [
        {
          "output_type": "stream",
          "name": "stdout",
          "text": [
            "10\n",
            "10\n",
            "[[10 20]\n",
            " [10 20]]\n",
            "[20 40]\n",
            "[30 30]\n",
            "[20 40]\n",
            "[0 0]\n",
            "[[0 0]]\n",
            "[[10]\n",
            " [10]]\n"
          ]
        }
      ]
    },
    {
      "cell_type": "code",
      "source": [
        "a=np.arange(0,10,2)\n",
        "b=np.arange(1,10,2)\n",
        "\n",
        "print(np.multiply(a,b))#Multiplication\n",
        "print(np.divide(a,b))#Division\n",
        "print(np.exp(a))\n",
        "print(np.sqrt(a))\n",
        "np.sin(a)\n",
        "np.cos(a)\n"
      ],
      "metadata": {
        "colab": {
          "base_uri": "https://localhost:8080/"
        },
        "collapsed": true,
        "id": "TMKF2qe8OAoc",
        "outputId": "6813871f-adbc-4236-fce8-4ff1f9962443"
      },
      "execution_count": 11,
      "outputs": [
        {
          "output_type": "stream",
          "name": "stdout",
          "text": [
            "[ 0  6 20 42 72]\n",
            "[0.         0.66666667 0.8        0.85714286 0.88888889]\n",
            "[1.00000000e+00 7.38905610e+00 5.45981500e+01 4.03428793e+02\n",
            " 2.98095799e+03]\n",
            "[0.         1.41421356 2.         2.44948974 2.82842712]\n"
          ]
        },
        {
          "output_type": "execute_result",
          "data": {
            "text/plain": [
              "array([ 1.        , -0.41614684, -0.65364362,  0.96017029, -0.14550003])"
            ]
          },
          "metadata": {},
          "execution_count": 11
        }
      ]
    },
    {
      "cell_type": "code",
      "source": [],
      "metadata": {
        "id": "_rt0iF1HOT1N"
      },
      "execution_count": null,
      "outputs": []
    }
  ]
}